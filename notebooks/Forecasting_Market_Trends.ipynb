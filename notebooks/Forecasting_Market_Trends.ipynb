{
 "cells": [
  {
   "cell_type": "markdown",
   "metadata": {},
   "source": [
    "# Task 3: Forecasting Future Market Trends\n",
    "### This notebook will:\n",
    "\n",
    "1. Load the trained LSTM models.\n",
    "2. Generate 6–12 months of future stock price forecasts for each ticker.\n",
    "3. Visualize and analyze the forecasts."
   ]
  },
  {
   "cell_type": "markdown",
   "metadata": {},
   "source": [
    "### Import necessary libraries"
   ]
  },
  {
   "cell_type": "code",
   "execution_count": 1,
   "metadata": {},
   "outputs": [],
   "source": [
    "# Import necessary libraries\n",
    "import os\n",
    "import numpy as np\n",
    "import pandas as pd\n",
    "import matplotlib.pyplot as plt\n",
    "from tensorflow.keras.models import load_model\n",
    "from sklearn.preprocessing import MinMaxScaler\n",
    "import datetime as dt"
   ]
  },
  {
   "cell_type": "markdown",
   "metadata": {},
   "source": [
    "### Define paths to Models and Data folders"
   ]
  },
  {
   "cell_type": "code",
   "execution_count": 2,
   "metadata": {},
   "outputs": [],
   "source": [
    "os.chdir(r'c:\\users\\ermias.tadesse\\10x\\Predictive-Analysis-And-Modeling')\n",
    "\n",
    "# Define paths to Models and Data folders\n",
    "data_folder_path = 'Data/'\n",
    "models_folder_path = 'Models/'"
   ]
  },
  {
   "cell_type": "markdown",
   "metadata": {},
   "source": [
    "### Load Processed Data and Models\n",
    "This step loads the processed data (for comparison with forecasts) and the trained models saved in Task 2."
   ]
  },
  {
   "cell_type": "code",
   "execution_count": 3,
   "metadata": {},
   "outputs": [
    {
     "name": "stderr",
     "output_type": "stream",
     "text": [
      "WARNING:absl:Compiled the loaded model, but the compiled metrics have yet to be built. `model.compile_metrics` will be empty until you train or evaluate the model.\n",
      "WARNING:absl:Compiled the loaded model, but the compiled metrics have yet to be built. `model.compile_metrics` will be empty until you train or evaluate the model.\n",
      "WARNING:absl:Compiled the loaded model, but the compiled metrics have yet to be built. `model.compile_metrics` will be empty until you train or evaluate the model.\n"
     ]
    },
    {
     "name": "stdout",
     "output_type": "stream",
     "text": [
      "Loaded model for TSLA.\n",
      "Loaded model for BND.\n",
      "Loaded model for SPY.\n"
     ]
    }
   ],
   "source": [
    "# Define tickers and load models\n",
    "tickers = ['TSLA', 'BND', 'SPY']\n",
    "models = {}\n",
    "scalers = {}\n",
    "\n",
    "# Load models and scalers for each ticker\n",
    "for ticker in tickers:\n",
    "    # Load model\n",
    "    model_path = os.path.join(models_folder_path, f\"{ticker}_lstm_model.h5\")\n",
    "    models[ticker] = load_model(model_path)\n",
    "    print(f\"Loaded model for {ticker}.\")\n",
    "\n",
    "    # Load processed data (for scaler and historical comparison)\n",
    "    processed_data_path = os.path.join(data_folder_path, 'processed', f'{ticker}_train.csv')\n",
    "    data = pd.read_csv(processed_data_path, parse_dates=['Date'], index_col='Date')\n",
    "    \n",
    "    # Initialize scaler and fit on full historical data\n",
    "    scaler = MinMaxScaler(feature_range=(0, 1))\n",
    "    close_prices = data['Close'].values.reshape(-1, 1)\n",
    "    scaler.fit(close_prices)\n",
    "    scalers[ticker] = scaler\n"
   ]
  }
 ],
 "metadata": {
  "kernelspec": {
   "display_name": "venv",
   "language": "python",
   "name": "python3"
  },
  "language_info": {
   "codemirror_mode": {
    "name": "ipython",
    "version": 3
   },
   "file_extension": ".py",
   "mimetype": "text/x-python",
   "name": "python",
   "nbconvert_exporter": "python",
   "pygments_lexer": "ipython3",
   "version": "3.12.0"
  }
 },
 "nbformat": 4,
 "nbformat_minor": 2
}
