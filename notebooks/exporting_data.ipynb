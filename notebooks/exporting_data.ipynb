{
 "cells": [
  {
   "cell_type": "code",
   "execution_count": 2,
   "metadata": {},
   "outputs": [
    {
     "name": "stderr",
     "output_type": "stream",
     "text": [
      "[*********************100%***********************]  1 of 1 completed\n",
      "[*********************100%***********************]  1 of 1 completed\n",
      "[*********************100%***********************]  1 of 1 completed"
     ]
    },
    {
     "name": "stdout",
     "output_type": "stream",
     "text": [
      "Data for TSLA saved to ../Data/raw/TSLA.csv\n",
      "Data for BND saved to ../Data/raw/BND.csv\n",
      "Data for SPY saved to ../Data/raw/SPY.csv\n"
     ]
    },
    {
     "name": "stderr",
     "output_type": "stream",
     "text": [
      "\n"
     ]
    }
   ],
   "source": [
    "import os\n",
    "import yfinance as yf\n",
    "import pandas as pd\n",
    "\n",
    "# Define directory path\n",
    "raw_data_path = '../Data/raw/'\n",
    "os.makedirs(raw_data_path, exist_ok=True)\n",
    "\n",
    "# Define tickers and date range\n",
    "tickers = ['TSLA', 'BND', 'SPY']\n",
    "start_date = '2020-01-01'\n",
    "end_date = '2024-01-01'\n",
    "\n",
    "# Download and save each ticker's data\n",
    "for ticker in tickers:\n",
    "    # Download data from Yahoo Finance\n",
    "    df = yf.download(ticker, start=start_date, end=end_date)\n",
    "    \n",
    "    # Save to CSV in the raw data folder\n",
    "    csv_path = os.path.join(raw_data_path, f'{ticker}.csv')\n",
    "    df.to_csv(csv_path)\n",
    "    print(f\"Data for {ticker} saved to {csv_path}\")"
   ]
  }
 ],
 "metadata": {
  "kernelspec": {
   "display_name": "venv",
   "language": "python",
   "name": "python3"
  },
  "language_info": {
   "codemirror_mode": {
    "name": "ipython",
    "version": 3
   },
   "file_extension": ".py",
   "mimetype": "text/x-python",
   "name": "python",
   "nbconvert_exporter": "python",
   "pygments_lexer": "ipython3",
   "version": "3.12.0"
  }
 },
 "nbformat": 4,
 "nbformat_minor": 2
}
