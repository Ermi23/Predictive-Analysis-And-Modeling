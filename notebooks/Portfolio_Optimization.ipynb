{
 "cells": [
  {
   "cell_type": "markdown",
   "metadata": {},
   "source": [
    "# Task 4: Portfolio Optimization Based on Forecasts\n",
    "### This notebook will:\n",
    "\n",
    "1. Combine historical and forecasted data for each asset (TSLA, BND, SPY).\n",
    "2. Compute expected returns and volatility for each asset based on forecasted prices.\n",
    "3. Optimize the portfolio allocation to maximize the Sharpe Ratio (risk-adjusted return).\n",
    "4. Analyze the optimized portfolio’s risk, returns, and volatility, and visualize the cumulative performance."
   ]
  },
  {
   "cell_type": "markdown",
   "metadata": {},
   "source": [
    "### Import necessary libraries"
   ]
  },
  {
   "cell_type": "code",
   "execution_count": 1,
   "metadata": {},
   "outputs": [],
   "source": [
    "# Import necessary libraries\n",
    "import os\n",
    "import pandas as pd\n",
    "import numpy as np\n",
    "import matplotlib.pyplot as plt\n",
    "from scipy.optimize import minimize"
   ]
  },
  {
   "cell_type": "markdown",
   "metadata": {},
   "source": [
    "### Define paths to data and models"
   ]
  },
  {
   "cell_type": "code",
   "execution_count": 2,
   "metadata": {},
   "outputs": [],
   "source": [
    "# Define paths to data and models\n",
    "os.chdir(r'c:\\users\\ermias.tadesse\\10x\\Predictive-Analysis-And-Modeling')\n",
    "data_folder_path = 'Data/'\n",
    "models_folder_path = 'Models/'"
   ]
  },
  {
   "cell_type": "markdown",
   "metadata": {},
   "source": [
    "### Load Historical Data and Forecasts\n",
    "We’ll load historical data and append forecasted data to calculate expected returns and volatility for each asset."
   ]
  },
  {
   "cell_type": "code",
   "execution_count": 4,
   "metadata": {},
   "outputs": [
    {
     "name": "stdout",
     "output_type": "stream",
     "text": [
      "\n",
      "TSLA Data (Last 5 Rows):\n",
      " Date\n",
      "2024-02-22 00:00:00+00:00    316.41122\n",
      "2024-02-23 00:00:00+00:00    316.56805\n",
      "2024-02-26 00:00:00+00:00    316.72305\n",
      "2024-02-27 00:00:00+00:00    316.87634\n",
      "2024-02-28 00:00:00+00:00    317.02798\n",
      "dtype: float64\n",
      "\n",
      "BND Data (Last 5 Rows):\n",
      " Date\n",
      "2024-02-22 00:00:00+00:00    70.71255\n",
      "2024-02-23 00:00:00+00:00    70.71100\n",
      "2024-02-26 00:00:00+00:00    70.70946\n",
      "2024-02-27 00:00:00+00:00    70.70793\n",
      "2024-02-28 00:00:00+00:00    70.70642\n",
      "dtype: float64\n",
      "\n",
      "SPY Data (Last 5 Rows):\n",
      " Date\n",
      "2024-02-22 00:00:00+00:00    419.24100\n",
      "2024-02-23 00:00:00+00:00    419.27320\n",
      "2024-02-26 00:00:00+00:00    419.30518\n",
      "2024-02-27 00:00:00+00:00    419.33694\n",
      "2024-02-28 00:00:00+00:00    419.36838\n",
      "dtype: float64\n"
     ]
    }
   ],
   "source": [
    "# Define tickers\n",
    "tickers = ['TSLA', 'BND', 'SPY']\n",
    "\n",
    "# Dictionary to store historical and forecasted data\n",
    "data = {}\n",
    "\n",
    "for ticker in tickers:\n",
    "    # Load historical data\n",
    "    processed_data_path = os.path.join(data_folder_path, 'processed', f'{ticker}_train.csv')\n",
    "    historical_data = pd.read_csv(processed_data_path, parse_dates=['Date'], index_col='Date')\n",
    "    \n",
    "    # Load forecasted data generated in Task 3\n",
    "    forecast_path = os.path.join(data_folder_path, 'processed', f'{ticker}_forecast.csv')\n",
    "    forecast_data = pd.read_csv(forecast_path, parse_dates=['Date'], index_col='Date')\n",
    "    \n",
    "    # Concatenate historical and forecasted data\n",
    "    combined_data = pd.concat([historical_data['Close'], forecast_data['Forecast']], axis=0)\n",
    "    data[ticker] = combined_data\n",
    "\n",
    "    # Display the last few rows of combined data\n",
    "    print(f\"\\n{ticker} Data (Last 5 Rows):\\n\", combined_data.tail())\n"
   ]
  },
  {
   "cell_type": "markdown",
   "metadata": {},
   "source": [
    "### Calculate Daily Returns and Expected Annual Return\n",
    "We’ll calculate daily returns based on forecasted prices and use them to compute the expected annual return for each asset."
   ]
  },
  {
   "cell_type": "code",
   "execution_count": 5,
   "metadata": {},
   "outputs": [
    {
     "name": "stdout",
     "output_type": "stream",
     "text": [
      "Expected Annual Returns:\n",
      " TSLA    0.774170\n",
      "BND    -0.038926\n",
      "SPY     0.084380\n",
      "dtype: float64\n"
     ]
    }
   ],
   "source": [
    "# Calculate daily returns for each asset\n",
    "returns = pd.DataFrame({ticker: data[ticker].pct_change().dropna() for ticker in tickers})\n",
    "\n",
    "# Calculate expected annual return for each asset\n",
    "annual_returns = returns.mean() * 252  # Assuming 252 trading days\n",
    "\n",
    "# Display annual returns\n",
    "print(\"Expected Annual Returns:\\n\", annual_returns)\n"
   ]
  },
  {
   "cell_type": "markdown",
   "metadata": {},
   "source": [
    "###  Calculate Covariance Matrix\n",
    "The covariance matrix of returns will help us understand the co-movement of asset prices, which is crucial for portfolio risk management"
   ]
  },
  {
   "cell_type": "code",
   "execution_count": 6,
   "metadata": {},
   "outputs": [
    {
     "name": "stdout",
     "output_type": "stream",
     "text": [
      "Annualized Covariance Matrix:\n",
      "           TSLA       BND       SPY\n",
      "TSLA  0.399901  0.004166  0.069983\n",
      "BND   0.004166  0.004259  0.003021\n",
      "SPY   0.069983  0.003021  0.046543\n"
     ]
    }
   ],
   "source": [
    "# Calculate the covariance matrix for the asset returns\n",
    "cov_matrix = returns.cov() * 252  # Annualized covariance\n",
    "\n",
    "# Display the covariance matrix\n",
    "print(\"Annualized Covariance Matrix:\\n\", cov_matrix)\n"
   ]
  }
 ],
 "metadata": {
  "kernelspec": {
   "display_name": "venv",
   "language": "python",
   "name": "python3"
  },
  "language_info": {
   "codemirror_mode": {
    "name": "ipython",
    "version": 3
   },
   "file_extension": ".py",
   "mimetype": "text/x-python",
   "name": "python",
   "nbconvert_exporter": "python",
   "pygments_lexer": "ipython3",
   "version": "3.12.0"
  }
 },
 "nbformat": 4,
 "nbformat_minor": 2
}
