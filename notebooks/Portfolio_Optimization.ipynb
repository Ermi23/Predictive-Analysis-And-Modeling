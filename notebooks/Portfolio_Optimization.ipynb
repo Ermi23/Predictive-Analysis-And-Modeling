{
 "cells": [
  {
   "cell_type": "markdown",
   "metadata": {},
   "source": [
    "# Task 4: Portfolio Optimization Based on Forecasts\n",
    "\n",
    "### This notebook will:\n",
    "\n",
    "1. Combine historical and forecasted data for each asset (TSLA, BND, SPY).\n",
    "2. Compute expected returns and volatility for each asset based on forecasted prices.\n",
    "3. Optimize the portfolio allocation to maximize the Sharpe Ratio (risk-adjusted return).\n",
    "4. Analyze the optimized portfolio’s risk, returns, and volatility, and visualize the cumulative performance.\n"
   ]
  },
  {
   "cell_type": "markdown",
   "metadata": {},
   "source": [
    "### Import necessary libraries"
   ]
  },
  {
   "cell_type": "code",
   "execution_count": 1,
   "metadata": {},
   "outputs": [],
   "source": [
    "# Import necessary libraries\n",
    "import os\n",
    "import pandas as pd\n",
    "import numpy as np\n",
    "import matplotlib.pyplot as plt\n",
    "from scipy.optimize import minimize"
   ]
  },
  {
   "cell_type": "markdown",
   "metadata": {},
   "source": [
    "### Define paths to data and models"
   ]
  },
  {
   "cell_type": "code",
   "execution_count": 2,
   "metadata": {},
   "outputs": [],
   "source": [
    "# Define paths to data and models\n",
    "os.chdir(r'c:\\users\\ermias.tadesse\\10x\\Predictive-Analysis-And-Modeling')\n",
    "data_folder_path = 'Data/'\n",
    "models_folder_path = 'Models/'"
   ]
  }
 ],
 "metadata": {
  "kernelspec": {
   "display_name": "venv",
   "language": "python",
   "name": "python3"
  },
  "language_info": {
   "codemirror_mode": {
    "name": "ipython",
    "version": 3
   },
   "file_extension": ".py",
   "mimetype": "text/x-python",
   "name": "python",
   "nbconvert_exporter": "python",
   "pygments_lexer": "ipython3",
   "version": "3.12.0"
  }
 },
 "nbformat": 4,
 "nbformat_minor": 2
}
