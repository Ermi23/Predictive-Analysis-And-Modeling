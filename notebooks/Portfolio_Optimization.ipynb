{
 "cells": [
  {
   "cell_type": "markdown",
   "metadata": {},
   "source": [
    "# Task 4: Portfolio Optimization Based on Forecasts\n",
    "### This notebook will:\n",
    "\n",
    "1. Combine historical and forecasted data for each asset (TSLA, BND, SPY).\n",
    "2. Compute expected returns and volatility for each asset based on forecasted prices.\n",
    "3. Optimize the portfolio allocation to maximize the Sharpe Ratio (risk-adjusted return).\n",
    "4. Analyze the optimized portfolio’s risk, returns, and volatility, and visualize the cumulative performance."
   ]
  },
  {
   "cell_type": "markdown",
   "metadata": {},
   "source": [
    "### Import necessary libraries"
   ]
  },
  {
   "cell_type": "code",
   "execution_count": 1,
   "metadata": {},
   "outputs": [],
   "source": [
    "# Import necessary libraries\n",
    "import os\n",
    "import pandas as pd\n",
    "import numpy as np\n",
    "import matplotlib.pyplot as plt\n",
    "from scipy.optimize import minimize"
   ]
  },
  {
   "cell_type": "markdown",
   "metadata": {},
   "source": [
    "### Define paths to data and models"
   ]
  },
  {
   "cell_type": "code",
   "execution_count": 2,
   "metadata": {},
   "outputs": [],
   "source": [
    "# Define paths to data and models\n",
    "os.chdir(r'c:\\users\\ermias.tadesse\\10x\\Predictive-Analysis-And-Modeling')\n",
    "data_folder_path = 'Data/'\n",
    "models_folder_path = 'Models/'"
   ]
  },
  {
   "cell_type": "markdown",
   "metadata": {},
   "source": [
    "### Load Historical Data and Forecasts\n",
    "We’ll load historical data and append forecasted data to calculate expected returns and volatility for each asset."
   ]
  },
  {
   "cell_type": "code",
   "execution_count": 4,
   "metadata": {},
   "outputs": [
    {
     "name": "stdout",
     "output_type": "stream",
     "text": [
      "\n",
      "TSLA Data (Last 5 Rows):\n",
      " Date\n",
      "2024-02-22 00:00:00+00:00    316.41122\n",
      "2024-02-23 00:00:00+00:00    316.56805\n",
      "2024-02-26 00:00:00+00:00    316.72305\n",
      "2024-02-27 00:00:00+00:00    316.87634\n",
      "2024-02-28 00:00:00+00:00    317.02798\n",
      "dtype: float64\n",
      "\n",
      "BND Data (Last 5 Rows):\n",
      " Date\n",
      "2024-02-22 00:00:00+00:00    70.71255\n",
      "2024-02-23 00:00:00+00:00    70.71100\n",
      "2024-02-26 00:00:00+00:00    70.70946\n",
      "2024-02-27 00:00:00+00:00    70.70793\n",
      "2024-02-28 00:00:00+00:00    70.70642\n",
      "dtype: float64\n",
      "\n",
      "SPY Data (Last 5 Rows):\n",
      " Date\n",
      "2024-02-22 00:00:00+00:00    419.24100\n",
      "2024-02-23 00:00:00+00:00    419.27320\n",
      "2024-02-26 00:00:00+00:00    419.30518\n",
      "2024-02-27 00:00:00+00:00    419.33694\n",
      "2024-02-28 00:00:00+00:00    419.36838\n",
      "dtype: float64\n"
     ]
    }
   ],
   "source": [
    "# Define tickers\n",
    "tickers = ['TSLA', 'BND', 'SPY']\n",
    "\n",
    "# Dictionary to store historical and forecasted data\n",
    "data = {}\n",
    "\n",
    "for ticker in tickers:\n",
    "    # Load historical data\n",
    "    processed_data_path = os.path.join(data_folder_path, 'processed', f'{ticker}_train.csv')\n",
    "    historical_data = pd.read_csv(processed_data_path, parse_dates=['Date'], index_col='Date')\n",
    "    \n",
    "    # Load forecasted data generated in Task 3\n",
    "    forecast_path = os.path.join(data_folder_path, 'processed', f'{ticker}_forecast.csv')\n",
    "    forecast_data = pd.read_csv(forecast_path, parse_dates=['Date'], index_col='Date')\n",
    "    \n",
    "    # Concatenate historical and forecasted data\n",
    "    combined_data = pd.concat([historical_data['Close'], forecast_data['Forecast']], axis=0)\n",
    "    data[ticker] = combined_data\n",
    "\n",
    "    # Display the last few rows of combined data\n",
    "    print(f\"\\n{ticker} Data (Last 5 Rows):\\n\", combined_data.tail())\n"
   ]
  },
  {
   "cell_type": "markdown",
   "metadata": {},
   "source": [
    "### Calculate Daily Returns and Expected Annual Return\n",
    "We’ll calculate daily returns based on forecasted prices and use them to compute the expected annual return for each asset."
   ]
  },
  {
   "cell_type": "code",
   "execution_count": 5,
   "metadata": {},
   "outputs": [
    {
     "name": "stdout",
     "output_type": "stream",
     "text": [
      "Expected Annual Returns:\n",
      " TSLA    0.774170\n",
      "BND    -0.038926\n",
      "SPY     0.084380\n",
      "dtype: float64\n"
     ]
    }
   ],
   "source": [
    "# Calculate daily returns for each asset\n",
    "returns = pd.DataFrame({ticker: data[ticker].pct_change().dropna() for ticker in tickers})\n",
    "\n",
    "# Calculate expected annual return for each asset\n",
    "annual_returns = returns.mean() * 252  # Assuming 252 trading days\n",
    "\n",
    "# Display annual returns\n",
    "print(\"Expected Annual Returns:\\n\", annual_returns)\n"
   ]
  },
  {
   "cell_type": "markdown",
   "metadata": {},
   "source": [
    "###  Calculate Covariance Matrix\n",
    "The covariance matrix of returns will help us understand the co-movement of asset prices, which is crucial for portfolio risk management"
   ]
  },
  {
   "cell_type": "code",
   "execution_count": 6,
   "metadata": {},
   "outputs": [
    {
     "name": "stdout",
     "output_type": "stream",
     "text": [
      "Annualized Covariance Matrix:\n",
      "           TSLA       BND       SPY\n",
      "TSLA  0.399901  0.004166  0.069983\n",
      "BND   0.004166  0.004259  0.003021\n",
      "SPY   0.069983  0.003021  0.046543\n"
     ]
    }
   ],
   "source": [
    "# Calculate the covariance matrix for the asset returns\n",
    "cov_matrix = returns.cov() * 252  # Annualized covariance\n",
    "\n",
    "# Display the covariance matrix\n",
    "print(\"Annualized Covariance Matrix:\\n\", cov_matrix)\n"
   ]
  },
  {
   "cell_type": "markdown",
   "metadata": {},
   "source": [
    "### Define Portfolio Optimization Function\n",
    "We’ll define a function to calculate the portfolio’s expected return and volatility based on asset weights. This function will also compute the Sharpe Ratio to identify the optimal weight allocation."
   ]
  },
  {
   "cell_type": "code",
   "execution_count": 7,
   "metadata": {},
   "outputs": [],
   "source": [
    "# Define the portfolio performance function\n",
    "def portfolio_performance(weights, annual_returns, cov_matrix):\n",
    "    returns = np.dot(weights, annual_returns)\n",
    "    volatility = np.sqrt(np.dot(weights.T, np.dot(cov_matrix, weights)))\n",
    "    sharpe_ratio = returns / volatility\n",
    "    return returns, volatility, sharpe_ratio\n"
   ]
  },
  {
   "cell_type": "markdown",
   "metadata": {},
   "source": [
    "### Optimize Portfolio to Maximize Sharpe Ratio\n",
    "Using scipy.optimize.minimize, we’ll find the asset weight allocation that maximizes the Sharpe Ratio, indicating the best risk-adjusted return."
   ]
  },
  {
   "cell_type": "code",
   "execution_count": 8,
   "metadata": {},
   "outputs": [
    {
     "name": "stdout",
     "output_type": "stream",
     "text": [
      "Optimized Weights:\n",
      " {'TSLA': 0.9999999999999999, 'BND': 5.551115123125783e-17, 'SPY': 5.551115123125783e-17}\n"
     ]
    }
   ],
   "source": [
    "# Define the objective function to minimize (negative Sharpe Ratio)\n",
    "def negative_sharpe_ratio(weights, annual_returns, cov_matrix):\n",
    "    return -portfolio_performance(weights, annual_returns, cov_matrix)[2]\n",
    "\n",
    "# Constraints: Weights must sum to 1\n",
    "constraints = ({'type': 'eq', 'fun': lambda x: np.sum(x) - 1})\n",
    "\n",
    "# Bounds for weights (0 <= weight <= 1 for each asset)\n",
    "bounds = tuple((0, 1) for _ in range(len(tickers)))\n",
    "\n",
    "# Initial guess (equal distribution)\n",
    "initial_weights = [1/len(tickers)] * len(tickers)\n",
    "\n",
    "# Perform optimization\n",
    "result = minimize(negative_sharpe_ratio, initial_weights, args=(annual_returns, cov_matrix),\n",
    "                  method='SLSQP', bounds=bounds, constraints=constraints)\n",
    "\n",
    "# Extract optimized weights\n",
    "optimized_weights = result.x\n",
    "print(\"Optimized Weights:\\n\", dict(zip(tickers, optimized_weights)))\n"
   ]
  },
  {
   "cell_type": "markdown",
   "metadata": {},
   "source": [
    "### Analyze Optimized Portfolio Performance\n",
    "Calculate the expected return, volatility, and Sharpe Ratio of the optimized portfolio."
   ]
  },
  {
   "cell_type": "code",
   "execution_count": 9,
   "metadata": {},
   "outputs": [
    {
     "name": "stdout",
     "output_type": "stream",
     "text": [
      "Optimized Portfolio Performance:\n",
      "- Expected Return: 77.42%\n",
      "- Volatility: 63.24%\n",
      "- Sharpe Ratio: 1.22\n"
     ]
    }
   ],
   "source": [
    "# Calculate portfolio performance metrics with optimized weights\n",
    "opt_returns, opt_volatility, opt_sharpe = portfolio_performance(optimized_weights, annual_returns, cov_matrix)\n",
    "\n",
    "# Display portfolio metrics\n",
    "print(f\"Optimized Portfolio Performance:\\n- Expected Return: {opt_returns:.2%}\\n- Volatility: {opt_volatility:.2%}\\n- Sharpe Ratio: {opt_sharpe:.2f}\")\n"
   ]
  }
 ],
 "metadata": {
  "kernelspec": {
   "display_name": "venv",
   "language": "python",
   "name": "python3"
  },
  "language_info": {
   "codemirror_mode": {
    "name": "ipython",
    "version": 3
   },
   "file_extension": ".py",
   "mimetype": "text/x-python",
   "name": "python",
   "nbconvert_exporter": "python",
   "pygments_lexer": "ipython3",
   "version": "3.12.0"
  }
 },
 "nbformat": 4,
 "nbformat_minor": 2
}
